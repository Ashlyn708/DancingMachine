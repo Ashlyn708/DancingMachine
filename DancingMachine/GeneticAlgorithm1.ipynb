{
 "cells": [
  {
   "cell_type": "code",
   "execution_count": 6,
   "metadata": {},
   "outputs": [],
   "source": [
    "import random"
   ]
  },
  {
   "cell_type": "code",
   "execution_count": 9,
   "metadata": {},
   "outputs": [],
   "source": [
    "## step sequence accuracy\n",
    "def stepRules(step1,step2,step3,step4):\n",
    "    marks=1\n",
    "    if step1 == step2 and step1 == step3 and step1 == step4:\n",
    "        marks= .01\n",
    "    if step1==2 and step2==3:\n",
    "        marks+=-.1\n",
    "    if step2==2 and step3==3:\n",
    "        marks+=-.1\n",
    "    if step3==2 and step4==3:\n",
    "        marks+=-.1\n",
    "    if step1>1 and step1==step2:\n",
    "        marks+=-.1\n",
    "    if step2>1 and step2==step3:\n",
    "        marks+=-.1\n",
    "    if step3>1 and step4==step3:\n",
    "        marks+=-.1\n",
    "    if step1==0 and step1==step2 and step1==step3:\n",
    "        marks+=-.1\n",
    "    if step2==0 and step2==step3 and step2==step4:\n",
    "        marks+=-.1\n",
    "    return marks;  "
   ]
  },
  {
   "cell_type": "code",
   "execution_count": 10,
   "metadata": {},
   "outputs": [],
   "source": [
    "def fitness(step1,step2,step3,step4):\n",
    "    ans=stepRules(step1,step2,step3,step4)\n",
    "    \n",
    "    if ans == 1:\n",
    "        return 1 \n",
    "    else:\n",
    "        return ans\n",
    "           "
   ]
  },
  {
   "cell_type": "raw",
   "metadata": {},
   "source": [
    "\n",
    "    "
   ]
  },
  {
   "cell_type": "code",
   "execution_count": 11,
   "metadata": {},
   "outputs": [],
   "source": [
    "def GA():\n",
    "    solutions=[]\n",
    "    for s in range(500):\n",
    "        solutions.append((random.randrange(5),random.randrange(5),random.randrange(5),random.randrange(5)))\n",
    "    \n",
    "    for i in range(50):\n",
    "#getting the fittnes value and appending tuple as well    \n",
    "        rankedsolutions = []\n",
    "        for s in solutions:\n",
    "            rankedsolutions.append((fitness(s[0],s[1],s[2],s[3]),s))\n",
    "        rankedsolutions.sort()\n",
    "        rankedsolutions.reverse()\n",
    "    \n",
    "        ##print(f\"======== Gen {i} best solutions======\")\n",
    "        ##print(rankedsolutions[0]) \n",
    "    \n",
    "        bestsolutions = rankedsolutions[:10]\n",
    "\n",
    "        finalsolution=random.choice(bestsolutions)\n",
    "        if finalsolution[0]>=1:\n",
    "            return finalsolution[1]\n",
    "            break;\n",
    "    \n",
    "        elements=[]\n",
    "        for s in bestsolutions:\n",
    "            elements.append(s[1][0])\n",
    "            elements.append(s[1][1])\n",
    "            elements.append(s[1][2])\n",
    "            elements.append(s[1][3])\n",
    "  #crossover and mutating      \n",
    "        newGen= []\n",
    "        for i in range(100):\n",
    "            e1 = round(random.choice(elements)*random.randrange(100)%5)\n",
    "            e2 = round(random.choice(elements)*random.randrange(100)%5)\n",
    "            e3 = round(random.choice(elements)*random.randrange(100)%5)\n",
    "            e4 = round(random.choice(elements)*random.randrange(100)%5)\n",
    "        \n",
    "            newGen.append((e1,e2,e3,e4))\n",
    "        \n",
    "        solutions = newGen"
   ]
  },
  {
   "cell_type": "code",
   "execution_count": null,
   "metadata": {
    "scrolled": true
   },
   "outputs": [],
   "source": []
  },
  {
   "cell_type": "code",
   "execution_count": null,
   "metadata": {},
   "outputs": [],
   "source": []
  },
  {
   "cell_type": "code",
   "execution_count": null,
   "metadata": {},
   "outputs": [],
   "source": []
  }
 ],
 "metadata": {
  "kernelspec": {
   "display_name": "Python 3",
   "language": "python",
   "name": "python3"
  },
  "language_info": {
   "codemirror_mode": {
    "name": "ipython",
    "version": 3
   },
   "file_extension": ".py",
   "mimetype": "text/x-python",
   "name": "python",
   "nbconvert_exporter": "python",
   "pygments_lexer": "ipython3",
   "version": "3.8.5"
  }
 },
 "nbformat": 4,
 "nbformat_minor": 4
}
