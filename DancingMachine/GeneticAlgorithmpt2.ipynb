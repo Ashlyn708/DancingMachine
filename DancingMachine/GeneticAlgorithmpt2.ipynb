{
 "cells": [
  {
   "cell_type": "code",
   "execution_count": 6,
   "metadata": {},
   "outputs": [],
   "source": [
    "import pandas as pd\n",
    "from numpy import random\n",
    "from GeneticAlgorithm1 import GA\n",
    "\n",
    "import anvil.server\n",
    "\n",
    "anvil.server.connect(\"5AV4TEHQGVELGXOCIWT3PGE6-YPXHQOPA5QYBYNUJ\")\n"
   ]
  },
  {
   "cell_type": "code",
   "execution_count": 7,
   "metadata": {},
   "outputs": [
    {
     "name": "stdout",
     "output_type": "stream",
     "text": [
      "   Type of step  Number        Step name  \\\n",
      "0          Step       0             walk   \n",
      "1      Footwork       1        jazz walk   \n",
      "2      Footwork       1              pdb   \n",
      "3      Footwork       1      jazz square   \n",
      "4      Footwork       1  kick ballchange   \n",
      "..          ...     ...              ...   \n",
      "57    Floorwork       4            reach   \n",
      "58    Floorwork       4         fan roll   \n",
      "59    Floorwork       4      flare split   \n",
      "60    Floorwork       4   shoulder rolls   \n",
      "61    Floorwork       4       handstands   \n",
      "\n",
      "                       Bvh file locations  \n",
      "0             DanceStepbvh\\walkChar00.bvh  \n",
      "1         DanceStepbvh\\jazzwalkChar00.bvh  \n",
      "2              DanceStepbvh\\pdbChar00.bvh  \n",
      "3       DanceStepbvh\\jazzsquareChar00.bvh  \n",
      "4   DanceStepbvh\\kickballchangeChar00.bvh  \n",
      "..                                    ...  \n",
      "57           DanceStepbvh\\reachChar00.bvh  \n",
      "58        DanceStepbvh\\fan rollChar00.bvh  \n",
      "59     DanceStepbvh\\flare splitChar00.bvh  \n",
      "60   DanceStepbvh\\shoulder rollChar00.bvh  \n",
      "61       DanceStepbvh\\handstandChar00.bvh  \n",
      "\n",
      "[62 rows x 4 columns]\n"
     ]
    }
   ],
   "source": [
    "##read comma seperated file\n",
    "df = pd.read_csv (r\"C:\\Users\\JAVERETT1\\Desktop\\DancingMachine\\DanceSteps.csv\")\n",
    "print (df)"
   ]
  },
  {
   "cell_type": "code",
   "execution_count": 8,
   "metadata": {},
   "outputs": [
    {
     "name": "stdout",
     "output_type": "stream",
     "text": [
      "['walk']\n",
      "['jazz walk', 'pdb', 'jazz square', 'kick ballchange', 'tendu', 'plie', 'pivot turn', 'degage', 'fan kick', 'step touch', 'jazz line', 'grape vine', 'triplet', 'pony', 'x-turn', 'releve', 'ballchange', 'change ball', 'passe', 'drag', 'camel']\n",
      "['pirouette', 'pique', 'chaine', 'degage turn', 'a la seconde', 'coupe turns', 'barrel turn', 'foquette', 'illusion', 'attitude', 'variation turn', 'compass']\n",
      "['axel', 'chasse', 'side leap', 'spinning disk', 'grand jete', 'cylpso', 'assemble', 'prance', 'airtour', 'saut de chat', 'saute', 'battement', 'switch leap', 'sissione', 'barrel leap', 'toetouch', 'pop tilt', 'hop', 'tour jete', 'pas de chate', 'saute passe']\n",
      "['modern rolls', 'forward roll', 'reach', 'fan roll', 'flare split', 'shoulder rolls', 'handstands']\n"
     ]
    }
   ],
   "source": [
    "##create a list for each step category\n",
    "Steps0=[]\n",
    "Steps1=[]\n",
    "Steps2=[]\n",
    "Steps3=[]\n",
    "Steps4=[]\n",
    "\n",
    "for i in range(len(df)) :\n",
    "    if df.loc[i,\"Number\"]==0:\n",
    "        Steps0.append(df.loc[i, \"Step name\"])\n",
    "    if df.loc[i,\"Number\"]==1:\n",
    "        Steps1.append(df.loc[i, \"Step name\"])\n",
    "    if df.loc[i,\"Number\"]==2:\n",
    "        Steps2.append(df.loc[i, \"Step name\"])\n",
    "    if df.loc[i,\"Number\"]==3:\n",
    "        Steps3.append(df.loc[i, \"Step name\"])\n",
    "    if df.loc[i,\"Number\"]==4:\n",
    "        Steps4.append(df.loc[i, \"Step name\"])\n",
    "        \n",
    "##print(Steps0)\n",
    "##print(Steps1)\n",
    "##print(Steps2)\n",
    "##print(Steps3)\n",
    "##print(Steps4)\n",
    "\n",
    "\n",
    "\n"
   ]
  },
  {
   "cell_type": "code",
   "execution_count": 9,
   "metadata": {},
   "outputs": [],
   "source": [
    "#method to get Final Dance\n",
    "\n",
    "def getFinalDance(time):\n",
    "    times=range(time);\n",
    "    danceSequence=[]\n",
    "\n",
    "# get the next dance steps and append them to dance sequence\n",
    "    for i in times:\n",
    "        NextDanceSteps=GA()\n",
    "        for i in NextDanceSteps:\n",
    "            danceSequence.append(i)\n",
    "# move dance step names in place of dance step cateogry\n",
    "    FinalDance=[]\n",
    "    for i in danceSequence:\n",
    "        if i==0:\n",
    "            FinalDance.append(random.choice(Steps0))\n",
    "        if i==1:\n",
    "            FinalDance.append(random.choice(Steps1))\n",
    "        if i==2:\n",
    "            FinalDance.append(random.choice(Steps2))\n",
    "        if i==3:\n",
    "            FinalDance.append(random.choice(Steps3))\n",
    "        if i==4:\n",
    "            FinalDance.append(random.choice(Steps4))\n",
    "        \n",
    "    return FinalDance"
   ]
  },
  {
   "cell_type": "code",
   "execution_count": 10,
   "metadata": {},
   "outputs": [],
   "source": [
    "#anvil connection\n",
    "@anvil.server.callable\n",
    "def wantedSteps(number):\n",
    "    steps=getFinalDance(int(number))\n",
    "    return steps"
   ]
  },
  {
   "cell_type": "code",
   "execution_count": null,
   "metadata": {},
   "outputs": [],
   "source": []
  }
 ],
 "metadata": {
  "kernelspec": {
   "display_name": "Python 3",
   "language": "python",
   "name": "python3"
  },
  "language_info": {
   "codemirror_mode": {
    "name": "ipython",
    "version": 3
   },
   "file_extension": ".py",
   "mimetype": "text/x-python",
   "name": "python",
   "nbconvert_exporter": "python",
   "pygments_lexer": "ipython3",
   "version": "3.8.5"
  }
 },
 "nbformat": 4,
 "nbformat_minor": 4
}
